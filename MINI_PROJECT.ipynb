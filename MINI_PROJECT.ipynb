{
  "nbformat": 4,
  "nbformat_minor": 0,
  "metadata": {
    "colab": {
      "name": "MINI PROJECT.ipynb",
      "provenance": [],
      "authorship_tag": "ABX9TyOwTrpPfavgL3+zHeOVsfHo",
      "include_colab_link": true
    },
    "kernelspec": {
      "name": "python3",
      "display_name": "Python 3"
    },
    "language_info": {
      "name": "python"
    }
  },
  "cells": [
    {
      "cell_type": "markdown",
      "metadata": {
        "id": "view-in-github",
        "colab_type": "text"
      },
      "source": [
        "<a href=\"https://colab.research.google.com/github/jashwanth2609/Mini-project/blob/main/MINI_PROJECT.ipynb\" target=\"_parent\"><img src=\"https://colab.research.google.com/assets/colab-badge.svg\" alt=\"Open In Colab\"/></a>"
      ]
    },
    {
      "cell_type": "code",
      "metadata": {
        "colab": {
          "base_uri": "https://localhost:8080/"
        },
        "id": "hR88IXyFrLjY",
        "outputId": "eede12c8-9cbb-46cf-ea05-f66900b9c629"
      },
      "source": [
        "!pip install ipython-autotime\n",
        "%load_ext autotime"
      ],
      "execution_count": null,
      "outputs": [
        {
          "output_type": "stream",
          "text": [
            "Collecting ipython-autotime\n",
            "  Downloading https://files.pythonhosted.org/packages/b4/c9/b413a24f759641bc27ef98c144b590023c8038dfb8a3f09e713e9dff12c1/ipython_autotime-0.3.1-py2.py3-none-any.whl\n",
            "Requirement already satisfied: ipython in /usr/local/lib/python3.7/dist-packages (from ipython-autotime) (5.5.0)\n",
            "Requirement already satisfied: pygments in /usr/local/lib/python3.7/dist-packages (from ipython->ipython-autotime) (2.6.1)\n",
            "Requirement already satisfied: prompt-toolkit<2.0.0,>=1.0.4 in /usr/local/lib/python3.7/dist-packages (from ipython->ipython-autotime) (1.0.18)\n",
            "Requirement already satisfied: setuptools>=18.5 in /usr/local/lib/python3.7/dist-packages (from ipython->ipython-autotime) (54.2.0)\n",
            "Requirement already satisfied: pexpect; sys_platform != \"win32\" in /usr/local/lib/python3.7/dist-packages (from ipython->ipython-autotime) (4.8.0)\n",
            "Requirement already satisfied: simplegeneric>0.8 in /usr/local/lib/python3.7/dist-packages (from ipython->ipython-autotime) (0.8.1)\n",
            "Requirement already satisfied: pickleshare in /usr/local/lib/python3.7/dist-packages (from ipython->ipython-autotime) (0.7.5)\n",
            "Requirement already satisfied: decorator in /usr/local/lib/python3.7/dist-packages (from ipython->ipython-autotime) (4.4.2)\n",
            "Requirement already satisfied: traitlets>=4.2 in /usr/local/lib/python3.7/dist-packages (from ipython->ipython-autotime) (5.0.5)\n",
            "Requirement already satisfied: six>=1.9.0 in /usr/local/lib/python3.7/dist-packages (from prompt-toolkit<2.0.0,>=1.0.4->ipython->ipython-autotime) (1.15.0)\n",
            "Requirement already satisfied: wcwidth in /usr/local/lib/python3.7/dist-packages (from prompt-toolkit<2.0.0,>=1.0.4->ipython->ipython-autotime) (0.2.5)\n",
            "Requirement already satisfied: ptyprocess>=0.5 in /usr/local/lib/python3.7/dist-packages (from pexpect; sys_platform != \"win32\"->ipython->ipython-autotime) (0.7.0)\n",
            "Requirement already satisfied: ipython-genutils in /usr/local/lib/python3.7/dist-packages (from traitlets>=4.2->ipython->ipython-autotime) (0.2.0)\n",
            "Installing collected packages: ipython-autotime\n",
            "Successfully installed ipython-autotime-0.3.1\n",
            "time: 1.9 ms (started: 2021-04-16 07:54:59 +00:00)\n"
          ],
          "name": "stdout"
        }
      ]
    },
    {
      "cell_type": "code",
      "metadata": {
        "colab": {
          "base_uri": "https://localhost:8080/"
        },
        "id": "f8PNKHo0rNuz",
        "outputId": "59fbfd28-3703-43c0-a5e3-91cf63f9a8a1"
      },
      "source": [
        "!pip install bing-image-downloader"
      ],
      "execution_count": null,
      "outputs": [
        {
          "output_type": "stream",
          "text": [
            "Collecting bing-image-downloader\n",
            "  Downloading https://files.pythonhosted.org/packages/0d/bf/537a61030b84ae4cd5022d5c7b014fd9bc3ce7c02358919153a6658a61d3/bing_image_downloader-1.0.4-py3-none-any.whl\n",
            "Installing collected packages: bing-image-downloader\n",
            "Successfully installed bing-image-downloader-1.0.4\n",
            "time: 2.94 s (started: 2021-04-16 07:55:05 +00:00)\n"
          ],
          "name": "stdout"
        }
      ]
    },
    {
      "cell_type": "code",
      "metadata": {
        "colab": {
          "base_uri": "https://localhost:8080/"
        },
        "id": "-z3Z_aWyrRye",
        "outputId": "243798eb-5334-4d58-fb2c-e1d8ae915fbb"
      },
      "source": [
        "from bing_image_downloader import downloader\n",
        "downloader.download('bill gates',limit=35,output_dir='images',adult_filter_off=True)"
      ],
      "execution_count": null,
      "outputs": [
        {
          "output_type": "stream",
          "text": [
            "\n",
            "\n",
            "[!!]Indexing page: 1\n",
            "\n",
            "[%] Indexed 20 Images on Page 1.\n",
            "\n",
            "===============================================\n",
            "\n",
            "[%] Downloading Image #1 from https://www1.pictures.gi.zimbio.com/28+Oct+1955+Microsoft+Chairman+Bill+Gates+VB7HUEwlX6kx.jpg\n",
            "[%] File Downloaded !\n",
            "\n",
            "[%] Downloading Image #2 from https://akm-img-a-in.tosshub.com/indiatoday/images/story/201603/rts6nmk_647_031016050940.jpg\n",
            "[%] File Downloaded !\n",
            "\n",
            "[%] Downloading Image #3 from https://www2.pictures.zimbio.com/gi/Glamour+Honors+23rd+Annual+Women+Year+Arrivals+ir3W73d_R9Ux.jpg\n",
            "[%] File Downloaded !\n",
            "\n",
            "[%] Downloading Image #4 from https://st3.idealista.com/news/archivos/2016-11/bunker_gates_100x100_01.jpg?sv=sEGTyx2k\n",
            "[%] File Downloaded !\n",
            "\n",
            "[%] Downloading Image #5 from https://i.ytimg.com/vi/uX7Wq6mZJfw/maxresdefault.jpg\n",
            "[%] File Downloaded !\n",
            "\n",
            "[%] Downloading Image #6 from https://weneedfun.com/wp-content/uploads/2016/11/Modern-Sculpture-15.jpg\n",
            "[%] File Downloaded !\n",
            "\n",
            "[%] Downloading Image #7 from https://cdn.quotesgram.com/img/57/17/2151139-beowulf.jpg\n",
            "[%] File Downloaded !\n",
            "\n",
            "[%] Downloading Image #8 from https://www.bestbookcentre.com/categories/jodylblosser/5966WhatsApp Image 2018-12-21 at 7.52.04 AM (4).jpeg\n",
            "[!] Issue getting: https://www.bestbookcentre.com/categories/jodylblosser/5966WhatsApp Image 2018-12-21 at 7.52.04 AM (4).jpeg\n",
            "[!] Error:: URL can't contain control characters. '/categories/jodylblosser/5966WhatsApp Image 2018-12-21 at 7.52.04 AM (4).jpeg' (found at least ' ')\n",
            "[%] Downloading Image #8 from https://www.bestbookcentre.com/categories/janetwarren/7008WhatsApp%20Image%202019-01-02%20at%205.41.45%20AM%20(6).jpeg\n",
            "[%] File Downloaded !\n",
            "\n",
            "[%] Downloading Image #9 from https://4.bp.blogspot.com/-hJsbLfbALIk/T2ksxTaTb4I/AAAAAAAACKs/B6spKbjgU2k/s1600/Yoda-Sphinx--31492.jpg\n",
            "[%] File Downloaded !\n",
            "\n",
            "[%] Downloading Image #10 from https://cdn.quotesgram.com/small/39/0/1817090522-nurse_03_255B1_255D_5B1_5D.jpg\n",
            "[%] File Downloaded !\n",
            "\n",
            "[%] Downloading Image #11 from https://ruinmyweek.com/wp-content/uploads/2020/05/coronavirus-5g-conspiracy-theory-memes-24.jpg\n",
            "[%] File Downloaded !\n",
            "\n",
            "[%] Downloading Image #12 from https://weneedfun.com/wp-content/uploads/2017/02/Baseball-Quotes-14.jpg\n",
            "[%] File Downloaded !\n",
            "\n",
            "[%] Downloading Image #13 from https://www.belasmensagens.com.br/wp-content/uploads/2013/09/a-mente-instruida.jpg\n",
            "[%] File Downloaded !\n",
            "\n",
            "[%] Downloading Image #14 from https://www.infoservice-client.com/wp-content/uploads/2017/01/intelligence-1-1024x538.jpg\n",
            "[%] File Downloaded !\n",
            "\n",
            "[%] Downloading Image #15 from https://weneedfun.com/wp-content/uploads/2017/03/Womens-Day-Wallpapers-22.jpg\n",
            "[%] File Downloaded !\n",
            "\n",
            "[%] Downloading Image #16 from http://sabiasesto.com/wp-content/uploads/dm12.jpg\n",
            "[%] File Downloaded !\n",
            "\n",
            "[%] Downloading Image #17 from https://www.recreoviral.com/wp-content/uploads/2017/01/No-dejes-jamás-que-alguien-te-diga-que-no-puedes-hacer-algo.jpg\n",
            "[!] Issue getting: https://www.recreoviral.com/wp-content/uploads/2017/01/No-dejes-jamás-que-alguien-te-diga-que-no-puedes-hacer-algo.jpg\n",
            "[!] Error:: 'ascii' codec can't encode character '\\xe1' in position 44: ordinal not in range(128)\n",
            "[%] Downloading Image #17 from https://www.recreoviral.com/wp-content/uploads/2017/01/Gastamos-dinero-que-no-tenemos-730x438.jpg\n",
            "[%] File Downloaded !\n",
            "\n",
            "[%] Downloading Image #18 from https://www.unepommeparjour.com/wp-content/uploads/2018/05/main_original_586ebc1b06399_133742.jpg\n",
            "[%] File Downloaded !\n",
            "\n",
            "\n",
            "\n",
            "[!!]Indexing page: 2\n",
            "\n",
            "[%] Indexed 20 Images on Page 2.\n",
            "\n",
            "===============================================\n",
            "\n",
            "[%] Downloading Image #19 from https://akm-img-a-in.tosshub.com/indiatoday/images/story/201806/Bill_Gates__Facebook_0.jpeg?86FsPp1O_gOH_EC9j.YZj.aj0o69q8OX\n",
            "[%] File Downloaded !\n",
            "\n",
            "[%] Downloading Image #20 from https://cdn.geckoandfly.com/wp-content/uploads/2015/04/karl-marx-quotes-communism02-830x467.jpg\n",
            "[%] File Downloaded !\n",
            "\n",
            "[%] Downloading Image #21 from https://cdn.quotesgram.com/img/22/34/326156938-famous-christian-happy-birthday-wishes-for-husbands-1.jpg\n",
            "[%] File Downloaded !\n",
            "\n",
            "[%] Downloading Image #22 from http://www.gunhaber.com.tr/images/image/pembe-isiklar-altindaki-kadinlar-kastamonu-genelevi-genelev-1489267.jpg\n",
            "[%] File Downloaded !\n",
            "\n",
            "[%] Downloading Image #23 from https://www.hdwallpapers.in/download/steve_jobs_and_bill_gates-2560x1600.jpg\n",
            "[%] File Downloaded !\n",
            "\n",
            "[%] Downloading Image #24 from http://sastudy.co.za/wp-content/uploads/2015/06/big-data.jpg\n",
            "[%] File Downloaded !\n",
            "\n",
            "[%] Downloading Image #25 from https://www1.pictures.zimbio.com/gi/Business+Leaders+Meet+Sun+Valley+Annual+Conference+phGdW-Skuqxx.jpg\n",
            "[%] File Downloaded !\n",
            "\n",
            "[%] Downloading Image #26 from https://i.pinimg.com/736x/7e/b4/07/7eb407e409165fac1965cbb5325c4ff9.jpg\n",
            "[%] File Downloaded !\n",
            "\n",
            "[%] Downloading Image #27 from https://weneedfun.com/wp-content/uploads/2016/08/Unique-Birthday-Cake-Designs-8.jpg\n",
            "[%] File Downloaded !\n",
            "\n",
            "[%] Downloading Image #28 from https://www.hdwallpapers.in/download/angry_face_of_draco_malfoy_in_snow_background_hd_draco_malfoy-1366x768.jpg\n",
            "[%] File Downloaded !\n",
            "\n",
            "[%] Downloading Image #29 from https://ansunibaate.com/wp-content/uploads/2019/05/luxury-home-house-image-full-image-picture-photo-hd.jpg\n",
            "[%] File Downloaded !\n",
            "\n",
            "[%] Downloading Image #30 from http://www.worthminer.com/wp-content/uploads/2017/11/Quates-6.jpg\n",
            "[%] File Downloaded !\n",
            "\n",
            "[%] Downloading Image #31 from https://kundaliniandcelltowers.com/melinda-gates-wearing-satanic-inverted-cross-on-today-show-may-8-2020.png\n",
            "[%] File Downloaded !\n",
            "\n",
            "[%] Downloading Image #32 from https://www.bestbookcentre.com/categories/balphondke/8932WhatsApp Image 2018-12-06 at 7.32.34 AM (6).jpeg\n",
            "[!] Issue getting: https://www.bestbookcentre.com/categories/balphondke/8932WhatsApp Image 2018-12-06 at 7.32.34 AM (6).jpeg\n",
            "[!] Error:: URL can't contain control characters. '/categories/balphondke/8932WhatsApp Image 2018-12-06 at 7.32.34 AM (6).jpeg' (found at least ' ')\n",
            "[%] Downloading Image #32 from https://akm-img-a-in.tosshub.com/indiatoday/images/story/201801/Lazy_teenager_0.jpeg?ABKt0zrgTPsXjIFiwbHWo138iUXpYvvS\n",
            "[%] File Downloaded !\n",
            "\n",
            "[%] Downloading Image #33 from https://s-media-cache-ak0.pinimg.com/736x/e1/34/fa/e134fa7c0043cfbbe740bdc4226df513.jpg\n",
            "[%] File Downloaded !\n",
            "\n",
            "[%] Downloading Image #34 from https://d.ibtimes.co.uk/en/full/1568170/taronga-zoos-new-echidna-puggle.jpg\n",
            "[%] File Downloaded !\n",
            "\n",
            "[%] Downloading Image #35 from https://cdnassets.hw.net/14/b1/be13a97f4889bd97ac28366272e3/problems-voidform-hero-tcm45-2162469.jpg\n",
            "[%] File Downloaded !\n",
            "\n",
            "\n",
            "\n",
            "[%] Done. Downloaded 35 images.\n",
            "\n",
            "===============================================\n",
            "\n",
            "time: 32.2 s (started: 2021-04-16 07:55:25 +00:00)\n"
          ],
          "name": "stdout"
        }
      ]
    },
    {
      "cell_type": "code",
      "metadata": {
        "colab": {
          "base_uri": "https://localhost:8080/"
        },
        "id": "1QLM1rEfrWqt",
        "outputId": "f493cbb9-2f8f-4918-f472-a94cc7fe123b"
      },
      "source": [
        "downloader.download('Soft Serve Ice Cream Cone',limit=35,output_dir='images',adult_filter_off=True)"
      ],
      "execution_count": null,
      "outputs": [
        {
          "output_type": "stream",
          "text": [
            "\n",
            "\n",
            "[!!]Indexing page: 1\n",
            "\n",
            "[%] Indexed 12 Images on Page 1.\n",
            "\n",
            "===============================================\n",
            "\n",
            "[%] Downloading Image #1 from http://www.disneyfoodblog.com/wp-content/uploads/2012/08/Ice-Cream-Cone.jpg\n",
            "[%] File Downloaded !\n",
            "\n",
            "[%] Downloading Image #2 from https://i2.cdn.turner.com/money/dam/assets/150316113834-dq-ice-cream-780x439.jpg\n",
            "[%] File Downloaded !\n",
            "\n",
            "[%] Downloading Image #3 from https://www.fonterra.com/content/dam/fonterra-public-website/fonterra-new-zealand/story-images/fonterra-mcdonalds-soft-serve-2.jpg\n",
            "[%] File Downloaded !\n",
            "\n",
            "[%] Downloading Image #4 from http://penelopesoasis.com/wp-content/uploads/2017/08/Salted-Caramel-Mocha-Ice-Cream-Cone.jpg\n",
            "[%] File Downloaded !\n",
            "\n",
            "[%] Downloading Image #5 from https://cdn.carvel.com/-/media/carvel/menu/ice-cream/soft-serve/3-twist-newb.png?v=1&amp;d=20180508T202630Z&amp;h=600&amp;w=600&amp;la=en&amp;hash=422A08EFA8C4843C6778D9BC8A915530EB784B28\n",
            "[%] File Downloaded !\n",
            "\n",
            "[%] Downloading Image #6 from https://i.pinimg.com/736x/9a/00/4a/9a004afa9e1ae3371210ce07b4aaaf58--soft-serve-fake-food.jpg\n",
            "[%] File Downloaded !\n",
            "\n",
            "[%] Downloading Image #7 from https://homesfeed.com/wp-content/uploads/2016/02/Slim-Soft-Serve-Ice-Cream-Machine-For-Home.jpg\n",
            "[%] File Downloaded !\n",
            "\n",
            "[%] Downloading Image #8 from http://d13z1xw8270sfc.cloudfront.net/origin/408882/1495501066771_ydcinacone.jpg\n",
            "[%] File Downloaded !\n",
            "\n",
            "[%] Downloading Image #9 from https://homesfeed.com/wp-content/uploads/2016/02/Soft-Serve-Ice-Cream-Machine-For-Home-With-Corn-And-Toping.jpg\n",
            "[%] File Downloaded !\n",
            "\n",
            "[%] Downloading Image #10 from https://www.megacone.ca/wp-content/plugins/widgetkit/cache/mega-cone-menu-soft-serve-cones-a136e0a759db8b7a6cf2af921d526de0.jpg\n",
            "[%] File Downloaded !\n",
            "\n",
            "[%] Downloading Image #11 from https://upload.wikimedia.org/wikipedia/commons/thumb/5/5c/2018-12-02_17_22_25_A_large_soft-serve_chocolate_ice_cream_cone_at_the_Dairy_Queen_along_Metrotech_Drive_in_Chantilly%2C_Fairfax_County%2C_Virginia.jpg/1200px-2018-12-02_17_22_25_A_large_soft-serve_chocolate_ice_cream_cone_at_the_Dairy_Queen_along_Metrotech_Drive_in_Chantilly%2C_Fairfax_County%2C_Virginia.jpg\n",
            "[Error]Invalid image, not saving https://upload.wikimedia.org/wikipedia/commons/thumb/5/5c/2018-12-02_17_22_25_A_large_soft-serve_chocolate_ice_cream_cone_at_the_Dairy_Queen_along_Metrotech_Drive_in_Chantilly%2C_Fairfax_County%2C_Virginia.jpg/1200px-2018-12-02_17_22_25_A_large_soft-serve_chocolate_ice_cream_cone_at_the_Dairy_Queen_along_Metrotech_Drive_in_Chantilly%2C_Fairfax_County%2C_Virginia.jpg\n",
            "\n",
            "[!] Issue getting: https://upload.wikimedia.org/wikipedia/commons/thumb/5/5c/2018-12-02_17_22_25_A_large_soft-serve_chocolate_ice_cream_cone_at_the_Dairy_Queen_along_Metrotech_Drive_in_Chantilly%2C_Fairfax_County%2C_Virginia.jpg/1200px-2018-12-02_17_22_25_A_large_soft-serve_chocolate_ice_cream_cone_at_the_Dairy_Queen_along_Metrotech_Drive_in_Chantilly%2C_Fairfax_County%2C_Virginia.jpg\n",
            "[!] Error:: No active exception to reraise\n",
            "[%] Downloading Image #11 from https://clipground.com/images/cream-and-pink-clipart-14.jpg\n",
            "[%] File Downloaded !\n",
            "\n",
            "\n",
            "\n",
            "[!!]Indexing page: 2\n",
            "\n",
            "[%] Indexed 11 Images on Page 2.\n",
            "\n",
            "===============================================\n",
            "\n",
            "[%] Downloading Image #12 from http://atlas-content-cdn.pixelsquid.com/stock-images/soft-serve-ice-cream-cone-N4VMDQ0-600.jpg\n",
            "[%] File Downloaded !\n",
            "\n",
            "[%] Downloading Image #13 from https://img0.etsystatic.com/015/0/5205551/il_570xN.427294972_4pjm.jpg\n",
            "[Error]Invalid image, not saving https://img0.etsystatic.com/015/0/5205551/il_570xN.427294972_4pjm.jpg\n",
            "\n",
            "[!] Issue getting: https://img0.etsystatic.com/015/0/5205551/il_570xN.427294972_4pjm.jpg\n",
            "[!] Error:: No active exception to reraise\n",
            "[%] Downloading Image #13 from https://i.pinimg.com/736x/84/16/8f/84168fd7ff228aa6704a9ae0abd2c148--mint-ice-cream-ice-cream-cones.jpg\n",
            "[%] File Downloaded !\n",
            "\n",
            "[%] Downloading Image #14 from https://upload.wikimedia.org/wikipedia/commons/thumb/8/86/99_ice_cream.jpg/1200px-99_ice_cream.jpg\n",
            "[%] File Downloaded !\n",
            "\n",
            "[%] Downloading Image #15 from https://www.longbeachdairy.com/gallery/large/9731.jpg\n",
            "[%] File Downloaded !\n",
            "\n",
            "[%] Downloading Image #16 from https://www.foodbusinessnews.net/-/media/02D03311BA97488392A0E336687F7634.ashx\n",
            "[%] File Downloaded !\n",
            "\n",
            "[%] Downloading Image #17 from http://geekologie.com/2017/04/26/black-soft-serve-ice-cream-4.jpg\n",
            "[%] File Downloaded !\n",
            "\n",
            "[%] Downloading Image #18 from http://atlas-content-cdn.pixelsquid.com/stock-images/dropped-ice-cream-cone-2M7w866-600.jpg\n",
            "[%] File Downloaded !\n",
            "\n",
            "[%] Downloading Image #19 from https://www.seriouseats.com/images/2014/06/20140616-chocolate-dip-soft-serve-vicky-wasik-7.jpg\n",
            "[%] File Downloaded !\n",
            "\n",
            "[%] Downloading Image #20 from https://farm6.staticflickr.com/5739/20078472844_b10f9647c0_b.jpg\n",
            "[Error]Invalid image, not saving https://farm6.staticflickr.com/5739/20078472844_b10f9647c0_b.jpg\n",
            "\n",
            "[!] Issue getting: https://farm6.staticflickr.com/5739/20078472844_b10f9647c0_b.jpg\n",
            "[!] Error:: No active exception to reraise\n",
            "[%] Downloading Image #20 from http://mickeyandmommy.com/wp-content/uploads/2016/03/DSC_0130-e1489086854359-681x1024.jpg\n",
            "[%] File Downloaded !\n",
            "\n",
            "\n",
            "\n",
            "[!!]Indexing page: 3\n",
            "\n",
            "[%] Indexed 10 Images on Page 3.\n",
            "\n",
            "===============================================\n",
            "\n",
            "[%] Downloading Image #21 from https://img0.etsystatic.com/015/0/5205551/il_570xN.427294972_4pjm.jpg\n",
            "[%] File Downloaded !\n",
            "\n",
            "[%] Downloading Image #22 from https://farm6.staticflickr.com/5739/20078472844_b10f9647c0_b.jpg\n",
            "[Error]Invalid image, not saving https://farm6.staticflickr.com/5739/20078472844_b10f9647c0_b.jpg\n",
            "\n",
            "[!] Issue getting: https://farm6.staticflickr.com/5739/20078472844_b10f9647c0_b.jpg\n",
            "[!] Error:: No active exception to reraise\n",
            "[%] Downloading Image #22 from https://i.pinimg.com/736x/84/16/8f/84168fd7ff228aa6704a9ae0abd2c148--mint-ice-cream-ice-cream-cones.jpg\n",
            "[%] File Downloaded !\n",
            "\n",
            "[%] Downloading Image #23 from http://atlas-content-cdn.pixelsquid.com/stock-images/dropped-ice-cream-cone-2M7w866-600.jpg\n",
            "[%] File Downloaded !\n",
            "\n",
            "[%] Downloading Image #24 from https://upload.wikimedia.org/wikipedia/commons/thumb/8/86/99_ice_cream.jpg/1200px-99_ice_cream.jpg\n",
            "[%] File Downloaded !\n",
            "\n",
            "[%] Downloading Image #25 from http://geekologie.com/2017/04/26/black-soft-serve-ice-cream-4.jpg\n",
            "[%] File Downloaded !\n",
            "\n",
            "[%] Downloading Image #26 from http://mickeyandmommy.com/wp-content/uploads/2016/03/DSC_0130-e1489086854359-681x1024.jpg\n",
            "[%] File Downloaded !\n",
            "\n",
            "[%] Downloading Image #27 from https://www.longbeachdairy.com/gallery/large/9731.jpg\n",
            "[%] File Downloaded !\n",
            "\n",
            "[%] Downloading Image #28 from https://www.seriouseats.com/images/2014/06/20140616-chocolate-dip-soft-serve-vicky-wasik-7.jpg\n",
            "[%] File Downloaded !\n",
            "\n",
            "[%] Downloading Image #29 from https://www.foodbusinessnews.net/-/media/02D03311BA97488392A0E336687F7634.ashx\n",
            "[%] File Downloaded !\n",
            "\n",
            "\n",
            "\n",
            "[!!]Indexing page: 4\n",
            "\n",
            "[%] Indexed 10 Images on Page 4.\n",
            "\n",
            "===============================================\n",
            "\n",
            "[%] Downloading Image #30 from http://d13z1xw8270sfc.cloudfront.net/origin/408882/1495501066771_ydcinacone.jpg\n",
            "[%] File Downloaded !\n",
            "\n",
            "[%] Downloading Image #31 from https://homesfeed.com/wp-content/uploads/2016/02/Soft-Serve-Ice-Cream-Machine-For-Home-With-Corn-And-Toping.jpg\n",
            "[%] File Downloaded !\n",
            "\n",
            "[%] Downloading Image #32 from https://www.megacone.ca/wp-content/plugins/widgetkit/cache/mega-cone-menu-soft-serve-cones-a136e0a759db8b7a6cf2af921d526de0.jpg\n",
            "[%] File Downloaded !\n",
            "\n",
            "[%] Downloading Image #33 from https://upload.wikimedia.org/wikipedia/commons/thumb/5/5c/2018-12-02_17_22_25_A_large_soft-serve_chocolate_ice_cream_cone_at_the_Dairy_Queen_along_Metrotech_Drive_in_Chantilly%2C_Fairfax_County%2C_Virginia.jpg/1200px-2018-12-02_17_22_25_A_large_soft-serve_chocolate_ice_cream_cone_at_the_Dairy_Queen_along_Metrotech_Drive_in_Chantilly%2C_Fairfax_County%2C_Virginia.jpg\n",
            "[Error]Invalid image, not saving https://upload.wikimedia.org/wikipedia/commons/thumb/5/5c/2018-12-02_17_22_25_A_large_soft-serve_chocolate_ice_cream_cone_at_the_Dairy_Queen_along_Metrotech_Drive_in_Chantilly%2C_Fairfax_County%2C_Virginia.jpg/1200px-2018-12-02_17_22_25_A_large_soft-serve_chocolate_ice_cream_cone_at_the_Dairy_Queen_along_Metrotech_Drive_in_Chantilly%2C_Fairfax_County%2C_Virginia.jpg\n",
            "\n",
            "[!] Issue getting: https://upload.wikimedia.org/wikipedia/commons/thumb/5/5c/2018-12-02_17_22_25_A_large_soft-serve_chocolate_ice_cream_cone_at_the_Dairy_Queen_along_Metrotech_Drive_in_Chantilly%2C_Fairfax_County%2C_Virginia.jpg/1200px-2018-12-02_17_22_25_A_large_soft-serve_chocolate_ice_cream_cone_at_the_Dairy_Queen_along_Metrotech_Drive_in_Chantilly%2C_Fairfax_County%2C_Virginia.jpg\n",
            "[!] Error:: No active exception to reraise\n",
            "[%] Downloading Image #33 from https://i2.cdn.turner.com/money/dam/assets/150316113834-dq-ice-cream-780x439.jpg\n",
            "[%] File Downloaded !\n",
            "\n",
            "[%] Downloading Image #34 from http://penelopesoasis.com/wp-content/uploads/2017/08/Salted-Caramel-Mocha-Ice-Cream-Cone.jpg\n",
            "[%] File Downloaded !\n",
            "\n",
            "[%] Downloading Image #35 from https://i.pinimg.com/736x/9a/00/4a/9a004afa9e1ae3371210ce07b4aaaf58--soft-serve-fake-food.jpg\n",
            "[%] File Downloaded !\n",
            "\n",
            "\n",
            "\n",
            "[%] Done. Downloaded 35 images.\n",
            "\n",
            "===============================================\n",
            "\n",
            "time: 16.4 s (started: 2021-04-16 07:56:04 +00:00)\n"
          ],
          "name": "stdout"
        }
      ]
    },
    {
      "cell_type": "code",
      "metadata": {
        "colab": {
          "base_uri": "https://localhost:8080/"
        },
        "id": "AYHxJjiJrgMr",
        "outputId": "8d04a692-36d3-4d0a-c874-7604ad60a155"
      },
      "source": [
        "downloader.download('rubiks cube',limit=35,output_dir='images',adult_filter_off=True)"
      ],
      "execution_count": null,
      "outputs": [
        {
          "output_type": "stream",
          "text": [
            "\n",
            "\n",
            "[!!]Indexing page: 1\n",
            "\n",
            "[%] Indexed 12 Images on Page 1.\n",
            "\n",
            "===============================================\n",
            "\n",
            "[%] Downloading Image #1 from https://i.ytimg.com/vi/f9ilC-ePrg4/maxresdefault.jpg\n",
            "[%] File Downloaded !\n",
            "\n",
            "[%] Downloading Image #2 from https://i.ytimg.com/vi/kdDVXXo09r0/hqdefault.jpg\n",
            "[%] File Downloaded !\n",
            "\n",
            "[%] Downloading Image #3 from https://i.ytimg.com/vi/rcI1XBa8b90/maxresdefault.jpg\n",
            "[%] File Downloaded !\n",
            "\n",
            "[%] Downloading Image #4 from https://wikis.swarthmore.edu/ENGR005_2008/images/thumb/e/e8/Core_Assembly.jpg/600px-Core_Assembly.jpg\n",
            "[%] File Downloaded !\n",
            "\n",
            "[%] Downloading Image #5 from https://i.ytimg.com/vi/WaD9yfEL5Lg/hqdefault.jpg\n",
            "[%] File Downloaded !\n",
            "\n",
            "[%] Downloading Image #6 from https://i.ytimg.com/vi/ESjuB1YcRWM/maxresdefault.jpg\n",
            "[%] File Downloaded !\n",
            "\n",
            "[%] Downloading Image #7 from https://d1alt1wkdk73qo.cloudfront.net/images/guide/83ccdfe7c30b488fb52ab0c3da6d301a/640x960.jpg\n",
            "[!] Issue getting: https://d1alt1wkdk73qo.cloudfront.net/images/guide/83ccdfe7c30b488fb52ab0c3da6d301a/640x960.jpg\n",
            "[!] Error:: <urlopen error [Errno -5] No address associated with hostname>\n",
            "[%] Downloading Image #7 from http://i.ytimg.com/vi/tcww2DG-e0A/maxresdefault.jpg\n",
            "[%] File Downloaded !\n",
            "\n",
            "[%] Downloading Image #8 from https://i.ytimg.com/vi/GT-cZgYvmpc/hqdefault.jpg\n",
            "[%] File Downloaded !\n",
            "\n",
            "[%] Downloading Image #9 from https://i.ytimg.com/vi/1QTufaQDNSI/maxresdefault.jpg\n",
            "[%] File Downloaded !\n",
            "\n",
            "[%] Downloading Image #10 from http://www.architectureartdesigns.com/wp-content/uploads/2013/03/KWK-Promes-Safe-House-21.jpg\n",
            "[%] File Downloaded !\n",
            "\n",
            "[%] Downloading Image #11 from https://worldwideinterweb.com/wp-content/uploads/2016/12/snoopy-snow-sculpture.jpg\n",
            "[%] File Downloaded !\n",
            "\n",
            "\n",
            "\n",
            "[!!]Indexing page: 2\n",
            "\n",
            "[%] Indexed 12 Images on Page 2.\n",
            "\n",
            "===============================================\n",
            "\n",
            "[%] Downloading Image #12 from https://i.ytimg.com/vi/f9ilC-ePrg4/maxresdefault.jpg\n",
            "[%] File Downloaded !\n",
            "\n",
            "[%] Downloading Image #13 from https://i.ytimg.com/vi/kdDVXXo09r0/hqdefault.jpg\n",
            "[%] File Downloaded !\n",
            "\n",
            "[%] Downloading Image #14 from https://i.ytimg.com/vi/rcI1XBa8b90/maxresdefault.jpg\n",
            "[%] File Downloaded !\n",
            "\n",
            "[%] Downloading Image #15 from https://wikis.swarthmore.edu/ENGR005_2008/images/thumb/e/e8/Core_Assembly.jpg/600px-Core_Assembly.jpg\n",
            "[%] File Downloaded !\n",
            "\n",
            "[%] Downloading Image #16 from https://i.ytimg.com/vi/WaD9yfEL5Lg/hqdefault.jpg\n",
            "[%] File Downloaded !\n",
            "\n",
            "[%] Downloading Image #17 from https://i.ytimg.com/vi/ESjuB1YcRWM/maxresdefault.jpg\n",
            "[%] File Downloaded !\n",
            "\n",
            "[%] Downloading Image #18 from https://d1alt1wkdk73qo.cloudfront.net/images/guide/83ccdfe7c30b488fb52ab0c3da6d301a/640x960.jpg\n",
            "[!] Issue getting: https://d1alt1wkdk73qo.cloudfront.net/images/guide/83ccdfe7c30b488fb52ab0c3da6d301a/640x960.jpg\n",
            "[!] Error:: <urlopen error [Errno -5] No address associated with hostname>\n",
            "[%] Downloading Image #18 from http://i.ytimg.com/vi/tcww2DG-e0A/maxresdefault.jpg\n",
            "[%] File Downloaded !\n",
            "\n",
            "[%] Downloading Image #19 from https://i.ytimg.com/vi/GT-cZgYvmpc/hqdefault.jpg\n",
            "[%] File Downloaded !\n",
            "\n",
            "[%] Downloading Image #20 from https://i.ytimg.com/vi/1QTufaQDNSI/maxresdefault.jpg\n",
            "[%] File Downloaded !\n",
            "\n",
            "[%] Downloading Image #21 from http://www.architectureartdesigns.com/wp-content/uploads/2013/03/KWK-Promes-Safe-House-21.jpg\n",
            "[%] File Downloaded !\n",
            "\n",
            "[%] Downloading Image #22 from https://worldwideinterweb.com/wp-content/uploads/2016/12/snoopy-snow-sculpture.jpg\n",
            "[%] File Downloaded !\n",
            "\n",
            "\n",
            "\n",
            "[!!]Indexing page: 3\n",
            "\n",
            "[%] Indexed 11 Images on Page 3.\n",
            "\n",
            "===============================================\n",
            "\n",
            "[%] Downloading Image #23 from https://ruwix.com/pics/mosaics/rubiks-mosaic-david-backham.png\n",
            "[%] File Downloaded !\n",
            "\n",
            "[%] Downloading Image #24 from http://i1.ytimg.com/vi/50Vhs0Xe02k/hqdefault.jpg\n",
            "[%] File Downloaded !\n",
            "\n",
            "[%] Downloading Image #25 from https://i.ytimg.com/vi/kMA8pTpQr_0/maxresdefault.jpg\n",
            "[%] File Downloaded !\n",
            "\n",
            "[%] Downloading Image #26 from https://i.ytimg.com/vi/1p0qN1_qWoA/maxresdefault.jpg\n",
            "[%] File Downloaded !\n",
            "\n",
            "[%] Downloading Image #27 from https://i.ytimg.com/vi/OuZR5o8Do8E/maxresdefault.jpg\n",
            "[%] File Downloaded !\n",
            "\n",
            "[%] Downloading Image #28 from http://wikis.swarthmore.edu/ENGR005_2008/images/thumb/e/e8/Core_Assembly.jpg/600px-Core_Assembly.jpg\n",
            "[%] File Downloaded !\n",
            "\n",
            "[%] Downloading Image #29 from https://i.ytimg.com/vi/piwrCCvL2FY/hqdefault.jpg\n",
            "[%] File Downloaded !\n",
            "\n",
            "[%] Downloading Image #30 from http://www.educol.net/photo-sauter-a-la-corde-dl20943.jpg\n",
            "[%] File Downloaded !\n",
            "\n",
            "[%] Downloading Image #31 from https://www.hdwallpapers.in/download/merida__angus_in_brave-1280x800.jpg\n",
            "[%] File Downloaded !\n",
            "\n",
            "[%] Downloading Image #32 from http://www.tattoosforyou.org/wp-content/uploads/2013/11/Puzzle-Piece-Tattoos-685x1024.jpg\n",
            "[%] File Downloaded !\n",
            "\n",
            "[%] Downloading Image #33 from https://1.bp.blogspot.com/_U56yhynHDXY/TBNa1TU6EPI/AAAAAAAABVg/yA9HAqXfmto/s1600/Spongebob+Squarepants+cake+2.JPG\n",
            "[%] File Downloaded !\n",
            "\n",
            "\n",
            "\n",
            "[!!]Indexing page: 4\n",
            "\n",
            "[%] Indexed 10 Images on Page 4.\n",
            "\n",
            "===============================================\n",
            "\n",
            "[%] Downloading Image #34 from http://i1.ytimg.com/vi/tOgN7d1D-3s/hqdefault.jpg\n",
            "[%] File Downloaded !\n",
            "\n",
            "[%] Downloading Image #35 from http://i.ytimg.com/vi/6e7WndGb5wY/maxresdefault.jpg\n",
            "[%] File Downloaded !\n",
            "\n",
            "\n",
            "\n",
            "[%] Done. Downloaded 35 images.\n",
            "\n",
            "===============================================\n",
            "\n",
            "time: 8.63 s (started: 2021-04-16 07:56:55 +00:00)\n"
          ],
          "name": "stdout"
        }
      ]
    },
    {
      "cell_type": "code",
      "metadata": {
        "colab": {
          "base_uri": "https://localhost:8080/"
        },
        "id": "SOQV_BPYrsxh",
        "outputId": "22c8a784-d976-4ed6-c358-5fd48b7c3b8c"
      },
      "source": [
        "import os\n",
        "import matplotlib.pyplot as plt\n",
        "import numpy as np\n",
        "from skimage.io import imread\n",
        "from skimage.transform import resize\n",
        " \n",
        "target = []\n",
        "images = []\n",
        "flat_data = []\n",
        "\n",
        "DATADIR = '/content/images'\n",
        "CATEGORIES = ['bill gates','Soft Serve Ice Cream Cone','rubiks cube']\n",
        "\n",
        "for category in CATEGORIES:\n",
        "   class_num=CATEGORIES.index(category)\n",
        "   path=os.path.join(DATADIR,category)\n",
        "   for img in os.listdir(path):\n",
        "     img_array=imread(os.path.join(path,img))\n",
        "     print(img_array.flatten())\n",
        "     img_resize=resize(img_array,(150,150,3))\n",
        "     flat_data.append(img_resize.flatten())\n",
        "     images.append(img_resize)\n",
        "     target.append(class_num)\n",
        "\n",
        "flat_data = np.array(flat_data)\n",
        "images = np.array(images)\n",
        "target =  np.array(target)     "
      ],
      "execution_count": null,
      "outputs": [
        {
          "output_type": "stream",
          "text": [
            "[0 0 0 ... 0 0 0]\n",
            "[241 242 245 ... 242 245 255]\n",
            "[159  36  29 ...  98  74  64]\n",
            "[223 153  81 ... 184 170 167]\n",
            "[148 167 182 ...  79  61   0]\n",
            "[55 44 48 ...  8 10  7]\n",
            "[236 217  89 ...  12 107 103]\n",
            "[75 71 62 ... 55 32 14]\n",
            "[ 2  1  0 ... 56 56 58]\n",
            "[198 199 194 ... 205 206 201]\n",
            "[154 167 184 ...   1   0   0]\n",
            "[255 255 255 ... 255 255 255]\n",
            "[213 216 221 ...  31  11   4]\n",
            "[  0 158 249 ...  28  24  23]\n",
            "[1 1 1 ... 1 1 1]\n",
            "[22 22 24 ... 39 39 39]\n",
            "[ 92 118 107 ...  32  47  40]\n",
            "[249 237 153 ... 253 227 153]\n",
            "[32 57 64 ...  5  9 10]\n",
            "[ 3  3  3 ... 16  6  0]\n",
            "[ 0 10 16 ...  1  1  0]\n",
            "[106  97  90 ...  64  64  66]\n",
            "[112  72  36 ... 191  93  18]\n",
            "[ 2  0 11 ... 30 50 57]\n",
            "[127 104  73 ... 245 245 245]\n",
            "[106  98  96 ...  63  43  32]\n",
            "[55 37 17 ... 19  6  0]\n",
            "[  4   8  17 ...  43 106 149]\n",
            "[  2  50 116 ...  60  46  63]\n",
            "[ 46  38  27 ... 246 237 230]\n",
            "[ 14  84 143 ...  47  47  45]\n",
            "[ 12  30   6 ... 130 168  91]\n",
            "[ 48 147 215 ... 153   1   0]\n",
            "[65 55 54 ... 12  3  6]\n",
            "[ 0 12 12 ... 13 30 37]\n",
            "[255 255 255 ... 255 255   0]\n",
            "[127 160 195 ...  41  42  44]\n",
            "[175 175 185 ... 236 235 240]\n",
            "[203  92  65 ... 131  65  30]\n",
            "[ 6  8  7 ... 13 15 10]\n",
            "[127 160 195 ...  41  42  44]\n",
            "[100  39  38 ...  30  29  35]\n",
            "[255 255 255 ... 255 255 255]\n",
            "[166 169 174 ... 181 181 181]\n",
            "[255 255 255 ... 255 255   0]\n",
            "[ 53  49  38 ... 109  93  78]\n",
            "[ 94  50  39 ... 208 176 153]\n",
            "[254 254 254 ... 254 254 254]\n",
            "[255 255 255 ... 255 255 255]\n",
            "[166 169 174 ... 181 181 181]\n",
            "[ 53  49  38 ... 109  93  78]\n",
            "[175 175 185 ... 236 235 240]\n",
            "[253 255 252 ... 252 252 252]\n",
            "[255 255 255 ... 255 255 255]\n",
            "[225 225 225 ...  83  82  87]\n",
            "[254 245 228 ...  25  23  24]\n",
            "[254 254 254 ... 254 254 254]\n",
            "[172 185 202 ...  32  32  32]\n",
            "[203  92  65 ... 131  65  30]\n",
            "[255 255 255 ... 255 255 255]\n",
            "[ 63  44   2 ... 109  95  82]\n",
            "[255 255 255 ... 255 255 255]\n",
            "[ 6  8  7 ... 13 15 10]\n",
            "[255 255 255 ... 255 255 255]\n",
            "[100  39  38 ...  30  29  35]\n",
            "[ 63  44   2 ... 109  95  82]\n",
            "[254 245 228 ...  25  23  24]\n",
            "[225 225 225 ...  83  82  87]\n",
            "[255 255 255 ... 255 255 255]\n",
            "[255 255 255 ... 255 255 255]\n",
            "[74 34 22 ... 35 36 28]\n",
            "[74 34 22 ... 35 36 28]\n",
            "[171 182 200 ... 172 179 197]\n",
            "[0 1 0 ... 0 0 0]\n",
            "[158  12  51 ...  96  84  84]\n",
            "[0 0 0 ... 0 0 0]\n",
            "[156 159 166 ...  34  26  24]\n",
            "[101  87  78 ...  83  75  64]\n",
            "[171 182 200 ... 172 179 197]\n",
            "[13 15 30 ... 18 22 47]\n",
            "[158  12  51 ...  96  84  84]\n",
            "[0 0 0 ... 0 0 0]\n",
            "[173 173 173 ... 251 251 251]\n",
            "[118  38   5 ...  26   5   0]\n",
            "[192 130  45 ... 229 193 131]\n",
            "[  0   0   0 ...   9  42 255]\n",
            "[ 65  91 152 ...  15  19   5]\n",
            "[101  87  78 ...  83  75  64]\n",
            "[13 15 30 ... 18 22 47]\n",
            "[171 182 200 ... 172 179 197]\n",
            "[ 68  49  53 ... 124 155 184]\n",
            "[0 0 0 ... 0 0 0]\n",
            "[0 0 0 ... 0 0 0]\n",
            "[ 65  91 152 ...  15  19   5]\n",
            "[0 0 0 ... 0 0 0]\n",
            "[ 0  0  0 ... 55 43 45]\n",
            "[0 0 0 ... 0 0 0]\n",
            "[16 11  8 ... 56 38 26]\n",
            "[65 72 88 ... 74 86 98]\n",
            "[0 0 0 ... 0 0 0]\n",
            "[0 0 0 ... 0 0 0]\n",
            "[ 4  5 85 ...  1  1 53]\n",
            "[156 159 166 ...  34  26  24]\n",
            "[0 0 0 ... 0 0 0]\n",
            "[52 65 84 ... 49 75 88]\n",
            "time: 19.5 s (started: 2021-04-16 07:57:52 +00:00)\n"
          ],
          "name": "stdout"
        }
      ]
    },
    {
      "cell_type": "code",
      "metadata": {
        "colab": {
          "base_uri": "https://localhost:8080/",
          "height": 298
        },
        "id": "MpmfIzlIrxd5",
        "outputId": "b6131823-2ac7-4cf9-b488-2a68f5850822"
      },
      "source": [
        "unique,count=np.unique(target,return_counts=True)\n",
        "plt.bar(CATEGORIES,count)"
      ],
      "execution_count": null,
      "outputs": [
        {
          "output_type": "execute_result",
          "data": {
            "text/plain": [
              "<BarContainer object of 3 artists>"
            ]
          },
          "metadata": {
            "tags": []
          },
          "execution_count": 8
        },
        {
          "output_type": "display_data",
          "data": {
            "image/png": "[encoded data removed]",
            "text/plain": [
              "<Figure size 432x288 with 1 Axes>"
            ]
          },
          "metadata": {
            "tags": [],
            "needs_background": "light"
          }
        },
        {
          "output_type": "stream",
          "text": [
            "time: 184 ms (started: 2021-04-16 07:58:25 +00:00)\n"
          ],
          "name": "stdout"
        }
      ]
    },
    {
      "cell_type": "code",
      "metadata": {
        "colab": {
          "base_uri": "https://localhost:8080/"
        },
        "id": "zS51IWrvsCrA",
        "outputId": "29b93d9f-d247-4ecd-d262-c8307249ddce"
      },
      "source": [
        "from sklearn.model_selection import train_test_split\n",
        "x_train,x_test,y_train,y_test=train_test_split(flat_data,target,test_size=0.3,random_state=109)"
      ],
      "execution_count": null,
      "outputs": [
        {
          "output_type": "stream",
          "text": [
            "time: 217 ms (started: 2021-04-16 07:58:57 +00:00)\n"
          ],
          "name": "stdout"
        }
      ]
    },
    {
      "cell_type": "code",
      "metadata": {
        "colab": {
          "base_uri": "https://localhost:8080/"
        },
        "id": "uAD7RbZwsKdK",
        "outputId": "73fd343b-9f3e-4564-a9cc-f807d1daa190"
      },
      "source": [
        "from sklearn.model_selection import GridSearchCV\n",
        "from sklearn import svm\n",
        "param_grid = [\n",
        "              {'C':[1,10,100,1000],'kernel':['linear']},\n",
        "              {'C':[1,10,100,1000],'gamma':[0.001,0.0001],'kernel':['rbf']},\n",
        "]\n",
        "\n",
        "svc = svm.SVC(probability=True)\n",
        "clf = GridSearchCV(svc,param_grid)\n",
        "clf.fit(x_train,y_train)"
      ],
      "execution_count": null,
      "outputs": [
        {
          "output_type": "execute_result",
          "data": {
            "text/plain": [
              "GridSearchCV(cv=None, error_score=nan,\n",
              "             estimator=SVC(C=1.0, break_ties=False, cache_size=200,\n",
              "                           class_weight=None, coef0=0.0,\n",
              "                           decision_function_shape='ovr', degree=3,\n",
              "                           gamma='scale', kernel='rbf', max_iter=-1,\n",
              "                           probability=True, random_state=None, shrinking=True,\n",
              "                           tol=0.001, verbose=False),\n",
              "             iid='deprecated', n_jobs=None,\n",
              "             param_grid=[{'C': [1, 10, 100, 1000], 'kernel': ['linear']},\n",
              "                         {'C': [1, 10, 100, 1000], 'gamma': [0.001, 0.0001],\n",
              "                          'kernel': ['rbf']}],\n",
              "             pre_dispatch='2*n_jobs', refit=True, return_train_score=False,\n",
              "             scoring=None, verbose=0)"
            ]
          },
          "metadata": {
            "tags": []
          },
          "execution_count": 10
        },
        {
          "output_type": "stream",
          "text": [
            "time: 2min 33s (started: 2021-04-16 07:59:27 +00:00)\n"
          ],
          "name": "stdout"
        }
      ]
    },
    {
      "cell_type": "code",
      "metadata": {
        "colab": {
          "base_uri": "https://localhost:8080/"
        },
        "id": "1kUPm9vKsRtp",
        "outputId": "0f5e349b-95ae-4816-9885-ffdbbd070bf4"
      },
      "source": [
        "y_pred = clf.predict(x_test)\n",
        "y_pred"
      ],
      "execution_count": null,
      "outputs": [
        {
          "output_type": "execute_result",
          "data": {
            "text/plain": [
              "array([0, 1, 0, 2, 1, 0, 1, 2, 1, 0, 1, 2, 2, 0, 0, 0, 0, 0, 1, 2, 2, 0,\n",
              "       1, 2, 0, 0, 0, 0, 0, 1, 0, 0])"
            ]
          },
          "metadata": {
            "tags": []
          },
          "execution_count": 11
        },
        {
          "output_type": "stream",
          "text": [
            "time: 272 ms (started: 2021-04-16 08:02:07 +00:00)\n"
          ],
          "name": "stdout"
        }
      ]
    },
    {
      "cell_type": "code",
      "metadata": {
        "colab": {
          "base_uri": "https://localhost:8080/"
        },
        "id": "vxGyj2m1sYtH",
        "outputId": "6c56cc17-8b7e-4a28-e27d-5bf0e08c9311"
      },
      "source": [
        "y_test"
      ],
      "execution_count": null,
      "outputs": [
        {
          "output_type": "execute_result",
          "data": {
            "text/plain": [
              "array([0, 1, 0, 2, 1, 2, 1, 2, 1, 2, 1, 2, 2, 1, 0, 0, 0, 0, 1, 2, 2, 2,\n",
              "       1, 2, 0, 0, 0, 2, 1, 1, 0, 2])"
            ]
          },
          "metadata": {
            "tags": []
          },
          "execution_count": 12
        },
        {
          "output_type": "stream",
          "text": [
            "time: 5.57 ms (started: 2021-04-16 08:02:10 +00:00)\n"
          ],
          "name": "stdout"
        }
      ]
    },
    {
      "cell_type": "code",
      "metadata": {
        "colab": {
          "base_uri": "https://localhost:8080/"
        },
        "id": "PvqBJKUHsZs5",
        "outputId": "3774b649-030b-4d8b-c319-421741680f3f"
      },
      "source": [
        "from sklearn.metrics import accuracy_score,confusion_matrix"
      ],
      "execution_count": null,
      "outputs": [
        {
          "output_type": "stream",
          "text": [
            "time: 1.15 ms (started: 2021-04-16 08:02:13 +00:00)\n"
          ],
          "name": "stdout"
        }
      ]
    },
    {
      "cell_type": "code",
      "metadata": {
        "colab": {
          "base_uri": "https://localhost:8080/"
        },
        "id": "ERr4IJUKseOx",
        "outputId": "0739f29a-fc98-4571-9337-bdffe987bc79"
      },
      "source": [
        "import pickle\n",
        "pickle.dump(clf,open('img_model.p','wb'))"
      ],
      "execution_count": null,
      "outputs": [
        {
          "output_type": "stream",
          "text": [
            "time: 51.3 ms (started: 2021-04-16 08:02:16 +00:00)\n"
          ],
          "name": "stdout"
        }
      ]
    },
    {
      "cell_type": "code",
      "metadata": {
        "colab": {
          "base_uri": "https://localhost:8080/"
        },
        "id": "Q-B8L5fRshqA",
        "outputId": "a8cc95f2-f637-4dd6-9f34-d872e80188b2"
      },
      "source": [
        "model = pickle.load(open('img_model.p','rb'))"
      ],
      "execution_count": null,
      "outputs": [
        {
          "output_type": "stream",
          "text": [
            "time: 30.8 ms (started: 2021-04-16 08:02:20 +00:00)\n"
          ],
          "name": "stdout"
        }
      ]
    },
    {
      "cell_type": "code",
      "metadata": {
        "colab": {
          "base_uri": "https://localhost:8080/",
          "height": 336
        },
        "id": "tat-czDSslMk",
        "outputId": "eba582b8-e04d-4a60-b3f6-35351149a424"
      },
      "source": [
        "flat_data = []\n",
        "url = input('Enter your URL ')\n",
        "img = imread(url)\n",
        "img_resize = resize(img,(150,150,3))\n",
        "flat_data.append(img_resize.flatten())\n",
        "flat_data=np.array(flat_data)\n",
        "print(img.shape)\n",
        "plt.imshow(img_resize)\n",
        "y_out = model.predict(flat_data)\n",
        "y_out = CATEGORIES[y_out[0]]\n",
        "print(f\"PREDICTED OUTPUT: {y_out}\")"
      ],
      "execution_count": null,
      "outputs": [
        {
          "output_type": "stream",
          "text": [
            "Enter your URL https://deadline.com/wp-content/uploads/2018/02/bill-gates-2.jpg?w=792\n",
            "(477, 792, 3)\n",
            "PREDICTED OUTPUT: bill gates\n"
          ],
          "name": "stdout"
        },
        {
          "output_type": "display_data",
          "data": {
            "image/png": "[encoded data removed]",
            "text/plain": [
              "<Figure size 432x288 with 1 Axes>"
            ]
          },
          "metadata": {
            "tags": [],
            "needs_background": "light"
          }
        },
        {
          "output_type": "stream",
          "text": [
            "time: 1min 21s (started: 2021-04-16 08:02:24 +00:00)\n"
          ],
          "name": "stdout"
        }
      ]
    },
    {
      "cell_type": "code",
      "metadata": {
        "colab": {
          "base_uri": "https://localhost:8080/"
        },
        "id": "N_dFH_RZsqWk",
        "outputId": "49bbcf83-010f-4f96-88a6-ba2a2a07b713"
      },
      "source": [
        "!pip install streamlit --quiet\n",
        "!pip install pyngrok==4.1.1 --quiet\n",
        "from pyngrok import ngrok"
      ],
      "execution_count": null,
      "outputs": [
        {
          "output_type": "stream",
          "text": [
            "\u001b[K     |████████████████████████████████| 8.2MB 7.1MB/s \n",
            "\u001b[K     |████████████████████████████████| 4.2MB 48.6MB/s \n",
            "\u001b[K     |████████████████████████████████| 112kB 59.4MB/s \n",
            "\u001b[K     |████████████████████████████████| 163kB 48.6MB/s \n",
            "\u001b[K     |████████████████████████████████| 81kB 8.0MB/s \n",
            "\u001b[K     |████████████████████████████████| 122kB 49.4MB/s \n",
            "\u001b[K     |████████████████████████████████| 71kB 7.5MB/s \n",
            "\u001b[?25h  Building wheel for blinker (setup.py) ... \u001b[?25l\u001b[?25hdone\n",
            "\u001b[31mERROR: google-colab 1.0.0 has requirement ipykernel~=4.10, but you'll have ipykernel 5.5.3 which is incompatible.\u001b[0m\n",
            "  Building wheel for pyngrok (setup.py) ... \u001b[?25l\u001b[?25hdone\n",
            "time: 17.6 s (started: 2021-04-16 08:03:51 +00:00)\n"
          ],
          "name": "stdout"
        }
      ]
    },
    {
      "cell_type": "code",
      "metadata": {
        "colab": {
          "base_uri": "https://localhost:8080/"
        },
        "id": "WjUcnTshstrH",
        "outputId": "28e5e449-ef75-4aa7-936f-7b463136c018"
      },
      "source": [
        "%%writefile app.py\n",
        "import streamlit as st\n",
        "import numpy as np\n",
        "from skimage.io import imread\n",
        "from skimage.transform import resize\n",
        "import pickle\n",
        "from PIL import Image\n",
        "st.set_option('deprecation.showfileUploaderEncoding',False)\n",
        "st.title(\"IMAGE CLASSIFIER\")\n",
        "st.text('Upload the image')\n",
        "\n",
        "model = pickle.load(open('img_model.p','rb'))\n",
        "uploaded_file = st.file_uploader('Choose an image...',type='jpg')\n",
        "if uploaded_file is not None:\n",
        "  img = Image.open(uploaded_file)\n",
        "  st.image(img,caption='Uploaded Image')\n",
        "\n",
        "  if st.button ('PREDICT'):\n",
        "    CATEGORIES = ['bill gates','Soft Serve Ice Cream Cone','rubiks cube']\n",
        "    st.write('Result...')\n",
        "    flat_data=[]\n",
        "    img = np.array(img)\n",
        "    img_resize = resize(img,(150,150,3))\n",
        "    flat_data.append(img_resize.flatten())\n",
        "    flat_data=np.array(flat_data)\n",
        "    st.write(img.shape)\n",
        "    y_out = model.predict(flat_data)\n",
        "    y_out = CATEGORIES[y_out[0]]\n",
        "    st.write(f\"PREDICTED OUTPUT: {y_out}\")"
      ],
      "execution_count": null,
      "outputs": [
        {
          "output_type": "stream",
          "text": [
            "Overwriting app.py\n",
            "time: 12.9 ms (started: 2021-04-16 08:06:05 +00:00)\n"
          ],
          "name": "stdout"
        }
      ]
    },
    {
      "cell_type": "code",
      "metadata": {
        "colab": {
          "base_uri": "https://localhost:8080/",
          "height": 52
        },
        "id": "p5FxmKA2szFm",
        "outputId": "c3a24d79-576f-43d8-b82e-eefdced2f1ca"
      },
      "source": [
        "!nohup streamlit run app.py &\n",
        "url = ngrok.connect(port='8501')\n",
        "url"
      ],
      "execution_count": null,
      "outputs": [
        {
          "output_type": "stream",
          "text": [
            "nohup: appending output to 'nohup.out'\n"
          ],
          "name": "stdout"
        },
        {
          "output_type": "execute_result",
          "data": {
            "application/vnd.google.colaboratory.intrinsic+json": {
              "type": "string"
            },
            "text/plain": [
              "'http://536d22bed7fc.ngrok.io'"
            ]
          },
          "metadata": {
            "tags": []
          },
          "execution_count": 19
        },
        {
          "output_type": "stream",
          "text": [
            "time: 2.2 s (started: 2021-04-16 08:04:22 +00:00)\n"
          ],
          "name": "stdout"
        }
      ]
    }
  ]
}